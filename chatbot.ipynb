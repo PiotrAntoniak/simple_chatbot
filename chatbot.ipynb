{
 "cells": [
  {
   "cell_type": "code",
   "execution_count": 11,
   "id": "506d7ce2-99be-46b6-9cdb-44a1a6e92c27",
   "metadata": {},
   "outputs": [],
   "source": [
    "import pkg_resources\n",
    "from symspellpy import SymSpell, Verbosity\n",
    "import time\n",
    "from sentence_transformers import SentenceTransformer, util\n",
    "import pandas as pd\n",
    "import numpy as np \n",
    "import pandas as pd"
   ]
  },
  {
   "cell_type": "code",
   "execution_count": 12,
   "id": "45764a3c-7a28-4e2c-a3b6-552eee6cb0be",
   "metadata": {},
   "outputs": [
    {
     "data": {
      "text/plain": [
       "True"
      ]
     },
     "execution_count": 12,
     "metadata": {},
     "output_type": "execute_result"
    }
   ],
   "source": [
    "sym_spell = SymSpell(max_dictionary_edit_distance=3, prefix_length=7)\n",
    "dictionary_path = pkg_resources.resource_filename(\"symspellpy\", \"frequency_dictionary_en_82_765.txt\")\n",
    "sym_spell.load_dictionary(dictionary_path, term_index=0, count_index=1)"
   ]
  },
  {
   "cell_type": "code",
   "execution_count": 13,
   "id": "a83e0881-2980-4e46-97d1-4d7afbd56e09",
   "metadata": {},
   "outputs": [],
   "source": [
    "with open(\"DO_NOT_CHECK.txt\",\"r\") as f:\n",
    "    DO_NOT_CHECK = f.read()\n",
    "    DO_NOT_CHECK.split(\" \")"
   ]
  },
  {
   "cell_type": "code",
   "execution_count": 14,
   "id": "e685865d-25ed-446a-9d59-62ad4f8b02ba",
   "metadata": {},
   "outputs": [],
   "source": [
    "def fix_sentence(sentence,DO_NOT_CHECK=DO_NOT_CHECK):\n",
    "    fixed = []\n",
    "    for word in sentence.split(\" \"):\n",
    "        word = word.lower()\n",
    "        if word in DO_NOT_CHECK:\n",
    "            fixed.append(word)\n",
    "        else:\n",
    "            suggestions = sym_spell.lookup(word, Verbosity.CLOSEST, max_edit_distance=3, include_unknown=True)\n",
    "            fixed.append(suggestions[0].__str__().split(\",\")[0])\n",
    "    return fixed"
   ]
  },
  {
   "cell_type": "code",
   "execution_count": 15,
   "id": "3d444807-c1fe-4ebf-a1d4-2388f7222b42",
   "metadata": {},
   "outputs": [
    {
     "data": {
      "text/plain": [
       "'were can i find information about my past purchases'"
      ]
     },
     "execution_count": 15,
     "metadata": {},
     "output_type": "execute_result"
    }
   ],
   "source": [
    "text = \" \".join(fix_sentence('Whre can I fnid informion about my past pruchases'))\n",
    "text"
   ]
  },
  {
   "cell_type": "code",
   "execution_count": 27,
   "id": "c7bf6cfd-a9d4-4c60-84fc-76a41532bab3",
   "metadata": {},
   "outputs": [
    {
     "data": {
      "text/plain": [
       "2"
      ]
     },
     "execution_count": 27,
     "metadata": {},
     "output_type": "execute_result"
    }
   ],
   "source": [
    "model = SentenceTransformer('sentence-transformers/all-MiniLM-L6-v2').cpu()\n",
    "model.eval()\n",
    "1+1"
   ]
  },
  {
   "cell_type": "code",
   "execution_count": 28,
   "id": "a5f0c6b3-a38e-433d-a0d5-0640229b410e",
   "metadata": {},
   "outputs": [
    {
     "data": {
      "text/html": [
       "<div>\n",
       "<style scoped>\n",
       "    .dataframe tbody tr th:only-of-type {\n",
       "        vertical-align: middle;\n",
       "    }\n",
       "\n",
       "    .dataframe tbody tr th {\n",
       "        vertical-align: top;\n",
       "    }\n",
       "\n",
       "    .dataframe thead th {\n",
       "        text-align: right;\n",
       "    }\n",
       "</style>\n",
       "<table border=\"1\" class=\"dataframe\">\n",
       "  <thead>\n",
       "    <tr style=\"text-align: right;\">\n",
       "      <th></th>\n",
       "      <th>INPUT_TEXT</th>\n",
       "      <th>RESPONSE</th>\n",
       "    </tr>\n",
       "  </thead>\n",
       "  <tbody>\n",
       "    <tr>\n",
       "      <th>0</th>\n",
       "      <td>Can I speak to the Human</td>\n",
       "      <td>Yes, please wait while we are connecting you t...</td>\n",
       "    </tr>\n",
       "    <tr>\n",
       "      <th>1</th>\n",
       "      <td>Hi</td>\n",
       "      <td>Hello. How can I help you?</td>\n",
       "    </tr>\n",
       "    <tr>\n",
       "      <th>2</th>\n",
       "      <td>Hello</td>\n",
       "      <td>Hello. How can I help you?</td>\n",
       "    </tr>\n",
       "    <tr>\n",
       "      <th>3</th>\n",
       "      <td>Good Morning</td>\n",
       "      <td>Hello. How can I help you?</td>\n",
       "    </tr>\n",
       "    <tr>\n",
       "      <th>4</th>\n",
       "      <td>Good Afternoon</td>\n",
       "      <td>Hello. How can I help you?</td>\n",
       "    </tr>\n",
       "    <tr>\n",
       "      <th>5</th>\n",
       "      <td>Greetings</td>\n",
       "      <td>Hello. How can I help you?</td>\n",
       "    </tr>\n",
       "    <tr>\n",
       "      <th>6</th>\n",
       "      <td>I want to cancel my subscription</td>\n",
       "      <td>To cancel you subscription you need to go to &lt;...</td>\n",
       "    </tr>\n",
       "    <tr>\n",
       "      <th>7</th>\n",
       "      <td>I want to renew a subscription</td>\n",
       "      <td>To renew you subscription you need to go to &lt;l...</td>\n",
       "    </tr>\n",
       "    <tr>\n",
       "      <th>8</th>\n",
       "      <td>How can I edit my personal details</td>\n",
       "      <td>In order to edit your personal details, please...</td>\n",
       "    </tr>\n",
       "    <tr>\n",
       "      <th>9</th>\n",
       "      <td>Where can I find information on my payments</td>\n",
       "      <td>All information on past and future payemnts ca...</td>\n",
       "    </tr>\n",
       "    <tr>\n",
       "      <th>10</th>\n",
       "      <td>How much money do I still owe</td>\n",
       "      <td>You currently owe &lt;query&gt;</td>\n",
       "    </tr>\n",
       "    <tr>\n",
       "      <th>11</th>\n",
       "      <td>Where can I find information about my past pur...</td>\n",
       "      <td>All information on past and future payemnts ca...</td>\n",
       "    </tr>\n",
       "    <tr>\n",
       "      <th>12</th>\n",
       "      <td>How much does premium subscription cost</td>\n",
       "      <td>You can obtain premium subscription for $$</td>\n",
       "    </tr>\n",
       "    <tr>\n",
       "      <th>13</th>\n",
       "      <td>I want to learn more about subscription</td>\n",
       "      <td>To learn more about subscription please go to ...</td>\n",
       "    </tr>\n",
       "  </tbody>\n",
       "</table>\n",
       "</div>"
      ],
      "text/plain": [
       "                                           INPUT_TEXT  \\\n",
       "0                            Can I speak to the Human   \n",
       "1                                                  Hi   \n",
       "2                                               Hello   \n",
       "3                                        Good Morning   \n",
       "4                                      Good Afternoon   \n",
       "5                                           Greetings   \n",
       "6                    I want to cancel my subscription   \n",
       "7                     I want to renew a subscription    \n",
       "8                  How can I edit my personal details   \n",
       "9         Where can I find information on my payments   \n",
       "10                      How much money do I still owe   \n",
       "11  Where can I find information about my past pur...   \n",
       "12            How much does premium subscription cost   \n",
       "13            I want to learn more about subscription   \n",
       "\n",
       "                                             RESPONSE  \n",
       "0   Yes, please wait while we are connecting you t...  \n",
       "1                          Hello. How can I help you?  \n",
       "2                          Hello. How can I help you?  \n",
       "3                          Hello. How can I help you?  \n",
       "4                          Hello. How can I help you?  \n",
       "5                          Hello. How can I help you?  \n",
       "6   To cancel you subscription you need to go to <...  \n",
       "7   To renew you subscription you need to go to <l...  \n",
       "8   In order to edit your personal details, please...  \n",
       "9   All information on past and future payemnts ca...  \n",
       "10                          You currently owe <query>  \n",
       "11  All information on past and future payemnts ca...  \n",
       "12         You can obtain premium subscription for $$  \n",
       "13  To learn more about subscription please go to ...  "
      ]
     },
     "execution_count": 28,
     "metadata": {},
     "output_type": "execute_result"
    }
   ],
   "source": [
    "data = pd.read_csv(\"input and responses.csv\", low_memory=False)\n",
    "data"
   ]
  },
  {
   "cell_type": "code",
   "execution_count": 29,
   "id": "7f85e928-cc4c-4052-9517-3a913a7ab484",
   "metadata": {},
   "outputs": [],
   "source": [
    "inp_res_dicto = {}\n",
    "for inp,res in zip(data.INPUT_TEXT, data.RESPONSE):\n",
    "    inp_res_dicto.update({inp:res})\n",
    "np.save('inp_res_dicto.npy', inp_res_dicto) "
   ]
  },
  {
   "cell_type": "code",
   "execution_count": 30,
   "id": "8e39987e-2397-4658-8209-2e7d31fa01b5",
   "metadata": {},
   "outputs": [
    {
     "data": {
      "text/plain": [
       "array([[-4.01056744e-03,  3.86110209e-02, -4.65880008e-03, ...,\n",
       "         6.28489703e-02, -5.12792207e-02, -5.95645159e-02],\n",
       "       [-9.05224085e-02,  4.04279791e-02,  2.38645244e-02, ...,\n",
       "         6.81075826e-02,  1.78261809e-02,  1.12706386e-02],\n",
       "       [-6.28017783e-02,  5.49701154e-02,  5.21321073e-02, ...,\n",
       "         5.08378744e-02,  5.15148491e-02,  7.04126433e-03],\n",
       "       ...,\n",
       "       [ 4.58948416e-05,  2.48811394e-02, -1.71080901e-04, ...,\n",
       "        -3.21780033e-02, -2.27981992e-02,  1.07641891e-02],\n",
       "       [-2.86385063e-02, -4.95260954e-03, -1.91149879e-02, ...,\n",
       "        -1.12944111e-01, -2.32961942e-02, -1.23223728e-02],\n",
       "       [ 3.68098234e-04, -1.04472116e-01, -6.10006899e-02, ...,\n",
       "         4.62266244e-02,  3.98446480e-03,  1.12122661e-02]], dtype=float32)"
      ]
     },
     "execution_count": 30,
     "metadata": {},
     "output_type": "execute_result"
    }
   ],
   "source": [
    "temp = model.encode(data.INPUT_TEXT.str.lower())\n",
    "temp"
   ]
  },
  {
   "cell_type": "code",
   "execution_count": 31,
   "id": "a5b7bdd8-43bb-4e85-b9ec-a1febe9fabd2",
   "metadata": {},
   "outputs": [],
   "source": [
    "inp_emb_dicto = {}\n",
    "for i,inp in enumerate(data.INPUT_TEXT.tolist()):\n",
    "    inp_emb_dicto.update({inp:temp[i,:]})\n",
    "np.save('inp_emb_dicto.npy', inp_emb_dicto) "
   ]
  },
  {
   "cell_type": "code",
   "execution_count": 33,
   "id": "8a0debc7-0eea-463c-80d6-391e142c62c7",
   "metadata": {},
   "outputs": [
    {
     "data": {
      "text/plain": [
       "(tensor([[0.9827]]), 'Where can I find information about my past purchases')"
      ]
     },
     "execution_count": 33,
     "metadata": {},
     "output_type": "execute_result"
    }
   ],
   "source": [
    "embeddings1 = model.encode(\" \".join(fix_sentence('Whre can I fnid informion about my past pruchases')))\n",
    "best_score = 0\n",
    "best_key = None\n",
    "for key in dicto.keys():\n",
    "    temp_score = util.pytorch_cos_sim(embeddings1, dicto[key])\n",
    "    if temp_score > best_score:\n",
    "        best_key = key\n",
    "        best_score = temp_score\n",
    "best_score,best_key\n"
   ]
  },
  {
   "cell_type": "code",
   "execution_count": 61,
   "id": "85ec9796-224d-4578-ba03-69dc3492391f",
   "metadata": {},
   "outputs": [],
   "source": []
  },
  {
   "cell_type": "code",
   "execution_count": null,
   "id": "95e46f58-d0b0-4106-af00-995a4362f175",
   "metadata": {},
   "outputs": [],
   "source": []
  }
 ],
 "metadata": {
  "kernelspec": {
   "display_name": "Python 3 (ipykernel)",
   "language": "python",
   "name": "python3"
  },
  "language_info": {
   "codemirror_mode": {
    "name": "ipython",
    "version": 3
   },
   "file_extension": ".py",
   "mimetype": "text/x-python",
   "name": "python",
   "nbconvert_exporter": "python",
   "pygments_lexer": "ipython3",
   "version": "3.8.11"
  }
 },
 "nbformat": 4,
 "nbformat_minor": 5
}
