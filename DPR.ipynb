{
 "cells": [
  {
   "cell_type": "code",
   "execution_count": 1,
   "metadata": {},
   "outputs": [],
   "source": [
    "import wikipedia\n",
    "import torch\n",
    "from transformers import AutoTokenizer, AutoModel\n",
    "import numpy as np\n",
    "import pandas as pd\n",
    "from sentence_transformers import SentenceTransformer, util\n",
    "from tqdm import tqdm"
   ]
  },
  {
   "cell_type": "code",
   "execution_count": 135,
   "metadata": {},
   "outputs": [],
   "source": [
    "covid = wikipedia.page(\"Coronavirus\").content\n",
    "london = wikipedia.page(\"London\").content\n",
    "japan = wikipedia.page(\"Japan\").content\n",
    "china = wikipedia.page(\"China\").content\n",
    "football = wikipedia.page(\"football\").content\n",
    "sports = wikipedia.page(\"sports\").content"
   ]
  },
  {
   "cell_type": "code",
   "execution_count": 104,
   "metadata": {},
   "outputs": [],
   "source": [
    "tokenizer = AutoTokenizer.from_pretrained(\"sentence-transformers/multi-qa-mpnet-base-dot-v1\")\n",
    "model = AutoModel.from_pretrained(\"sentence-transformers/multi-qa-mpnet-base-dot-v1\")\n"
   ]
  },
  {
   "cell_type": "code",
   "execution_count": 217,
   "metadata": {},
   "outputs": [],
   "source": [
    "def cls_pooling(model_output):\n",
    "    return model_output.last_hidden_state[:,0]\n",
    "\n",
    "def encode_query(query):\n",
    "    encoded_input = tokenizer(query, truncation=True, return_tensors='pt')\n",
    "\n",
    "    with torch.no_grad():\n",
    "        model_output = model(**encoded_input, return_dict=True)\n",
    "\n",
    "    embeddings = cls_pooling(model_output)\n",
    "\n",
    "    return embeddings\n",
    "\n",
    "\n",
    "def encode_docs(docs,maxlen = 64, stride = 32):\n",
    "    encoded_input = []\n",
    "    embeddings = []\n",
    "    spans = []\n",
    "    \n",
    "    for text in tqdm(docs):\n",
    "        text = text.split(\" \")\n",
    "        if len(text) < maxlen:\n",
    "            text = \" \".join(text)\n",
    "            encoded_input.append(tokenizer(text,  return_tensors='pt', truncation = True))\n",
    "            spans.append(text)\n",
    "        else:\n",
    "            num_iters = int(len(text)/maxlen)\n",
    "            for i in range(num_iters):\n",
    "                if i == 0:\n",
    "                    temp_text = \" \".join(text[i*maxlen:(i+1)*maxlen+stride])\n",
    "                else:\n",
    "                    temp_text = \" \".join(text[(i-1)*maxlen:(i)*maxlen][-stride:] + text[i*maxlen:(i+1)*maxlen])\n",
    "                \n",
    "                encoded_input.append(tokenizer(temp_text, return_tensors='pt', truncation = True))\n",
    "                spans.append(temp_text)\n",
    "    \n",
    "    with torch.no_grad():\n",
    "        for encoded in tqdm(encoded_input):\n",
    "            model_output = model(**encoded, return_dict=True)\n",
    "            embeddings.append(cls_pooling(model_output))\n",
    "\n",
    "    return torch.stack(embeddings), spans\n"
   ]
  },
  {
   "cell_type": "code",
   "execution_count": 218,
   "metadata": {},
   "outputs": [
    {
     "name": "stderr",
     "output_type": "stream",
     "text": [
      "100%|██████████| 6/6 [00:00<00:00,  9.05it/s]\n",
      "100%|██████████| 855/855 [05:52<00:00,  2.42it/s]\n"
     ]
    }
   ],
   "source": [
    "docs = [london, covid, japan, china, football, sports]\n",
    "doc_emb, doc_text = encode_docs(docs)"
   ]
  },
  {
   "cell_type": "code",
   "execution_count": 241,
   "metadata": {},
   "outputs": [
    {
     "name": "stdout",
     "output_type": "stream",
     "text": [
      "\n",
      "22.93402862548828 \n",
      " people in 2011, while its wider metropolitan area had a population of 12–14 million, depending on the definition used. According to Eurostat, London is the second most populous metropolitan area in Europe. A net 726,000 immigrants arrived there in the period 1991–2001.The region covers 1,579 square kilometres (610 sq mi), giving a population density of 5,177 inhabitants per square kilometre (13,410/sq mi), more than ten times that of any other British region. In population terms, London is the 19th largest city and the 18th largest metropolitan region.\n",
      "\n",
      "\n",
      "=== Age structure and median age ===\n",
      "Children younger than 14\n",
      "\n",
      "22.107194900512695 \n",
      " into residential areas at night to take advantage of London's green spaces.\n",
      "\n",
      "\n",
      "== Demography ==\n",
      "\n",
      "The 2011 census recorded that 2,998,264 people or 36.7% of London's population were foreign-born making it the city with the second largest immigrant population after New York, in terms of absolute numbers. About 69% of children born in London in 2015 had at least one parent who was born abroad. The table to the right shows the commonest countries of birth of London residents. Note that some of the German-born population, in 18th position, are British citizens from birth born to parents serving\n",
      "\n",
      "21.97780418395996 \n",
      " encompasses a total area of 1,583 square kilometres (611 sq mi), an area which had a population of 7,172,036 in 2001 and a population density of 4,542 inhabitants per square kilometre (11,760/sq mi). The extended area known as the London Metropolitan Region or the London Metropolitan Agglomeration, comprises a total area of 8,382 square kilometres (3,236 sq mi) has a population of 13,709,000 and a population density of 1,510 inhabitants per square kilometre (3,900/sq mi). Modern London stands on the Thames, its primary geographical feature, a navigable river which crosses the city from the south-west to\n",
      "\n",
      "21.889284133911133 \n",
      " the most populous city in the world. It peaked at 8,615,245 in 1939, just before the outbreak of the Second World War, but had declined to 7,192,091 by the 2001 Census. However, the population then grew by just over a million between the 2001 and 2011 Censuses, to reach 8,173,941 in the latter.However, London's continuous urban area extends beyond Greater London and numbered 9,787,426 people in 2011, while its wider metropolitan area had a population of 12–14 million, depending on the definition used. According to Eurostat, London is the second most populous metropolitan area in Europe.\n",
      "\n",
      "21.182600021362305 \n",
      " city. It accounts for 13.4 per cent of the UK population. Greater London Built-up Area is the fourth-most populous in Europe, after Istanbul, Moscow and Paris, with 9,787,426 inhabitants at the 2011 census. The London metropolitan area is the third-most populous in Europe after Istanbul's and Moscow's, with 14,040,163 inhabitants in 2016.\n",
      "London has four World Heritage Sites: the Tower of London; Kew Gardens; the Palace of Westminster, along with  Westminster Abbey, and St Margaret's Church; and the historic settlement in Greenwich, where the Royal Observatory, Greenwich defines the Prime Meridian (0° longitude) and Greenwich Mean\n",
      "Wall time: 156 ms\n"
     ]
    }
   ],
   "source": [
    "%%time\n",
    "#query = \"What is one child policy?\"\n",
    "#query = \"How many Summer Games has London hosted?\"\n",
    "#query = \"What is the current population of China?\"\n",
    "#query = \"How many people live in London?\"\n",
    "#query = \"Highest mountain\"\n",
    "query_emb = encode_query(query)\n",
    "\n",
    "scores = torch.mm(query_emb, doc_emb.reshape(-1,doc_emb[0][0].shape[0]).transpose(0, 1))[0].cpu().tolist()\n",
    "doc_score_pairs = list(zip(doc_text, scores))\n",
    "doc_score_pairs = sorted(doc_score_pairs, key=lambda x: x[1], reverse=True)\n",
    "\n",
    "for doc, score in doc_score_pairs[:5]:\n",
    "    print()\n",
    "    print(score, \"\\n\",doc)"
   ]
  },
  {
   "cell_type": "code",
   "execution_count": null,
   "metadata": {},
   "outputs": [],
   "source": []
  },
  {
   "cell_type": "code",
   "execution_count": null,
   "metadata": {},
   "outputs": [],
   "source": []
  }
 ],
 "metadata": {
  "kernelspec": {
   "display_name": "Python 3",
   "language": "python",
   "name": "python3"
  },
  "language_info": {
   "codemirror_mode": {
    "name": "ipython",
    "version": 3
   },
   "file_extension": ".py",
   "mimetype": "text/x-python",
   "name": "python",
   "nbconvert_exporter": "python",
   "pygments_lexer": "ipython3",
   "version": "3.8.3"
  }
 },
 "nbformat": 4,
 "nbformat_minor": 4
}
